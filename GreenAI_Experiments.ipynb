{
  "nbformat": 4,
  "nbformat_minor": 0,
  "metadata": {
    "colab": {
      "provenance": [],
      "gpuType": "T4",
      "authorship_tag": "ABX9TyPzf/I8tTXETCce7zLbdeBa",
      "include_colab_link": true
    },
    "kernelspec": {
      "name": "python3",
      "display_name": "Python 3"
    },
    "language_info": {
      "name": "python"
    },
    "accelerator": "GPU"
  },
  "cells": [
    {
      "cell_type": "markdown",
      "metadata": {
        "id": "view-in-github",
        "colab_type": "text"
      },
      "source": [
        "<a href=\"https://colab.research.google.com/github/ShoaibAhmed-007/GreenAI-Compression/blob/main/GreenAI_Experiments.ipynb\" target=\"_parent\"><img src=\"https://colab.research.google.com/assets/colab-badge.svg\" alt=\"Open In Colab\"/></a>"
      ]
    },
    {
      "cell_type": "markdown",
      "source": [
        "# 1. Setup (Imports & Install Packages)"
      ],
      "metadata": {
        "id": "DFyWtT5kbwRJ"
      }
    },
    {
      "cell_type": "code",
      "source": [
        "import torch\n",
        "import torchvision\n",
        "import torch.nn as nn\n",
        "import torch.optim as optim\n",
        "import torchvision.transforms as transforms\n",
        "import matplotlib.pyplot as plt\n",
        "from codecarbon import EmissionsTracker"
      ],
      "metadata": {
        "id": "rKOEEEL9cAgG"
      },
      "execution_count": 4,
      "outputs": []
    },
    {
      "cell_type": "markdown",
      "source": [
        "# 2. Load CIFAR-10 Dataset"
      ],
      "metadata": {
        "id": "a3wKjbMacGSS"
      }
    },
    {
      "cell_type": "code",
      "source": [
        "transform = transforms.Compose([\n",
        "    transforms.ToTensor(),\n",
        "    transforms.Normalize((0.5,), (0.5,))\n",
        "])\n",
        "\n",
        "trainset = torchvision.datasets.CIFAR10(root='./data', train=True, download=True, transform=transform)\n",
        "trainloader = torch.utils.data.DataLoader(trainset, batch_size=64, shuffle=True)\n",
        "\n",
        "testset = torchvision.datasets.CIFAR10(root='./data', train=False, download=True, transform=transform)\n",
        "testloader = torch.utils.data.DataLoader(testset, batch_size=64, shuffle=False)\n",
        "\n",
        "print(\"✅ CIFAR-10 loaded successfully!\")"
      ],
      "metadata": {
        "id": "VrtcrENycHkJ"
      },
      "execution_count": null,
      "outputs": []
    },
    {
      "cell_type": "markdown",
      "source": [
        "# 3. Train Baseline ResNet-18"
      ],
      "metadata": {
        "id": "TteOdF3tcYx1"
      }
    },
    {
      "cell_type": "code",
      "source": [],
      "metadata": {
        "id": "DOXdBs4WcaT-"
      },
      "execution_count": null,
      "outputs": []
    },
    {
      "cell_type": "markdown",
      "source": [
        "# 4. Apply Compression (Quantization, Pruning, Knowledge Distillation)"
      ],
      "metadata": {
        "id": "El9tZ1I7cbvr"
      }
    },
    {
      "cell_type": "code",
      "source": [],
      "metadata": {
        "id": "5pwPxttxcdKq"
      },
      "execution_count": null,
      "outputs": []
    },
    {
      "cell_type": "markdown",
      "source": [
        "# 5. Measure Energy with CodeCarbon"
      ],
      "metadata": {
        "id": "Ntw-qXh7cdzS"
      }
    },
    {
      "cell_type": "code",
      "source": [
        "tracker = EmissionsTracker()\n",
        "tracker.start()\n",
        "\n",
        "# Example: a dummy training loop (replace later with real training)\n",
        "for i in range(3):\n",
        "    print(\"Training epoch\", i+1)\n",
        "\n",
        "emissions = tracker.stop()\n",
        "print(f\"Estimated CO₂ emissions: {emissions:.6f} kg\")"
      ],
      "metadata": {
        "id": "7cYZwJ4mcfes"
      },
      "execution_count": null,
      "outputs": []
    }
  ]
}